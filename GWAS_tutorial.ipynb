{
 "cells": [
  {
   "cell_type": "markdown",
   "id": "03c6a1ed-81bc-4984-bf31-d70517f119df",
   "metadata": {},
   "source": [
    "# GWAS Tutorial"
   ]
  },
  {
   "cell_type": "markdown",
   "id": "8c33a167-3b99-4466-92e0-a6cce2947ec9",
   "metadata": {},
   "source": [
    "This notebook runs an example analysis of GWAS (genome-wide association study) data to identify variants significantly associated with beat synchronization. First, you will characterize the data and perform any needed filtering. Second, you will calculate GWAS summary statistics. Third, you will generate a Manhattan plot and identify significant peaks."
   ]
  },
  {
   "cell_type": "markdown",
   "id": "a0607654-cf34-4951-a219-6046274af7f7",
   "metadata": {},
   "source": [
    "Let's load the necessary libraries."
   ]
  },
  {
   "cell_type": "code",
   "execution_count": 1,
   "id": "39200038-ebd8-4114-be16-8c8347961fe9",
   "metadata": {},
   "outputs": [],
   "source": [
    "import matplotlib.pyplot as plt\n",
    "import numpy as np\n",
    "import pandas as pd\n",
    "import seaborn as sns\n",
    "import statsmodels.api as sm"
   ]
  },
  {
   "cell_type": "markdown",
   "id": "a2fdb217-22b4-40a5-9066-0991876e345b",
   "metadata": {},
   "source": [
    "Read in the pedigree data (with genotypes) and map formatted data."
   ]
  },
  {
   "cell_type": "code",
   "execution_count": 2,
   "id": "20039b0d-ab36-4098-ad55-546b30181355",
   "metadata": {},
   "outputs": [],
   "source": [
    "variant_info = pd.read_csv('GWAS_tutorial.map.gz', sep = '\\t', header = 0)\n",
    "genotypes = pd.read_csv('GWAS_tutorial.ped.gz', sep = '\\t', header = 0)"
   ]
  },
  {
   "cell_type": "markdown",
   "id": "6eedec6d-eb9d-4826-a579-43b370e206b3",
   "metadata": {},
   "source": [
    "Take a look at both files."
   ]
  },
  {
   "cell_type": "code",
   "execution_count": 3,
   "id": "f0c19c46-9049-40a1-8e24-47bbfabd19f9",
   "metadata": {},
   "outputs": [
    {
     "data": {
      "text/html": [
       "<div>\n",
       "<style scoped>\n",
       "    .dataframe tbody tr th:only-of-type {\n",
       "        vertical-align: middle;\n",
       "    }\n",
       "\n",
       "    .dataframe tbody tr th {\n",
       "        vertical-align: top;\n",
       "    }\n",
       "\n",
       "    .dataframe thead th {\n",
       "        text-align: right;\n",
       "    }\n",
       "</style>\n",
       "<table border=\"1\" class=\"dataframe\">\n",
       "  <thead>\n",
       "    <tr style=\"text-align: right;\">\n",
       "      <th></th>\n",
       "      <th>chr</th>\n",
       "      <th>rsID</th>\n",
       "      <th>cM</th>\n",
       "      <th>pos</th>\n",
       "    </tr>\n",
       "  </thead>\n",
       "  <tbody>\n",
       "    <tr>\n",
       "      <th>0</th>\n",
       "      <td>1</td>\n",
       "      <td>rs1_1</td>\n",
       "      <td>0</td>\n",
       "      <td>200826415</td>\n",
       "    </tr>\n",
       "    <tr>\n",
       "      <th>1</th>\n",
       "      <td>1</td>\n",
       "      <td>rs1_2</td>\n",
       "      <td>0</td>\n",
       "      <td>4027976</td>\n",
       "    </tr>\n",
       "    <tr>\n",
       "      <th>2</th>\n",
       "      <td>1</td>\n",
       "      <td>rs1_3</td>\n",
       "      <td>0</td>\n",
       "      <td>222620360</td>\n",
       "    </tr>\n",
       "    <tr>\n",
       "      <th>3</th>\n",
       "      <td>1</td>\n",
       "      <td>rs1_4</td>\n",
       "      <td>0</td>\n",
       "      <td>5556784</td>\n",
       "    </tr>\n",
       "    <tr>\n",
       "      <th>4</th>\n",
       "      <td>1</td>\n",
       "      <td>rs1_5</td>\n",
       "      <td>0</td>\n",
       "      <td>176260783</td>\n",
       "    </tr>\n",
       "  </tbody>\n",
       "</table>\n",
       "</div>"
      ],
      "text/plain": [
       "  chr   rsID  cM        pos\n",
       "0   1  rs1_1   0  200826415\n",
       "1   1  rs1_2   0    4027976\n",
       "2   1  rs1_3   0  222620360\n",
       "3   1  rs1_4   0    5556784\n",
       "4   1  rs1_5   0  176260783"
      ]
     },
     "execution_count": 3,
     "metadata": {},
     "output_type": "execute_result"
    }
   ],
   "source": [
    "variant_info.head()"
   ]
  },
  {
   "cell_type": "code",
   "execution_count": 4,
   "id": "0d54f4f2-9908-4f71-9f1c-73bf76ecc819",
   "metadata": {
    "scrolled": true
   },
   "outputs": [
    {
     "data": {
      "text/html": [
       "<div>\n",
       "<style scoped>\n",
       "    .dataframe tbody tr th:only-of-type {\n",
       "        vertical-align: middle;\n",
       "    }\n",
       "\n",
       "    .dataframe tbody tr th {\n",
       "        vertical-align: top;\n",
       "    }\n",
       "\n",
       "    .dataframe thead th {\n",
       "        text-align: right;\n",
       "    }\n",
       "</style>\n",
       "<table border=\"1\" class=\"dataframe\">\n",
       "  <thead>\n",
       "    <tr style=\"text-align: right;\">\n",
       "      <th></th>\n",
       "      <th>FID</th>\n",
       "      <th>IID</th>\n",
       "      <th>Father_ID</th>\n",
       "      <th>Mother_ID</th>\n",
       "      <th>Sex</th>\n",
       "      <th>PHENOTYPE</th>\n",
       "      <th>rs1_1</th>\n",
       "      <th>rs1_2</th>\n",
       "      <th>rs1_3</th>\n",
       "      <th>rs1_4</th>\n",
       "      <th>...</th>\n",
       "      <th>rsX_510</th>\n",
       "      <th>rsX_511</th>\n",
       "      <th>rsX_512</th>\n",
       "      <th>rsX_513</th>\n",
       "      <th>rsX_514</th>\n",
       "      <th>rs848293</th>\n",
       "      <th>rs10779987</th>\n",
       "      <th>rs62340585</th>\n",
       "      <th>rs11865086</th>\n",
       "      <th>rs4792891</th>\n",
       "    </tr>\n",
       "  </thead>\n",
       "  <tbody>\n",
       "    <tr>\n",
       "      <th>0</th>\n",
       "      <td>0</td>\n",
       "      <td>IND0</td>\n",
       "      <td>0</td>\n",
       "      <td>0</td>\n",
       "      <td>0</td>\n",
       "      <td>1</td>\n",
       "      <td>1</td>\n",
       "      <td>0</td>\n",
       "      <td>0</td>\n",
       "      <td>0</td>\n",
       "      <td>...</td>\n",
       "      <td>0</td>\n",
       "      <td>0</td>\n",
       "      <td>1</td>\n",
       "      <td>0</td>\n",
       "      <td>0</td>\n",
       "      <td>2</td>\n",
       "      <td>0</td>\n",
       "      <td>1</td>\n",
       "      <td>1</td>\n",
       "      <td>0</td>\n",
       "    </tr>\n",
       "    <tr>\n",
       "      <th>1</th>\n",
       "      <td>0</td>\n",
       "      <td>IND1</td>\n",
       "      <td>0</td>\n",
       "      <td>0</td>\n",
       "      <td>0</td>\n",
       "      <td>1</td>\n",
       "      <td>0</td>\n",
       "      <td>0</td>\n",
       "      <td>0</td>\n",
       "      <td>0</td>\n",
       "      <td>...</td>\n",
       "      <td>1</td>\n",
       "      <td>0</td>\n",
       "      <td>0</td>\n",
       "      <td>0</td>\n",
       "      <td>0</td>\n",
       "      <td>1</td>\n",
       "      <td>0</td>\n",
       "      <td>2</td>\n",
       "      <td>1</td>\n",
       "      <td>1</td>\n",
       "    </tr>\n",
       "    <tr>\n",
       "      <th>2</th>\n",
       "      <td>0</td>\n",
       "      <td>IND2</td>\n",
       "      <td>0</td>\n",
       "      <td>0</td>\n",
       "      <td>0</td>\n",
       "      <td>0</td>\n",
       "      <td>1</td>\n",
       "      <td>0</td>\n",
       "      <td>0</td>\n",
       "      <td>0</td>\n",
       "      <td>...</td>\n",
       "      <td>0</td>\n",
       "      <td>0</td>\n",
       "      <td>1</td>\n",
       "      <td>1</td>\n",
       "      <td>0</td>\n",
       "      <td>0</td>\n",
       "      <td>1</td>\n",
       "      <td>1</td>\n",
       "      <td>1</td>\n",
       "      <td>2</td>\n",
       "    </tr>\n",
       "    <tr>\n",
       "      <th>3</th>\n",
       "      <td>0</td>\n",
       "      <td>IND3</td>\n",
       "      <td>0</td>\n",
       "      <td>0</td>\n",
       "      <td>0</td>\n",
       "      <td>0</td>\n",
       "      <td>1</td>\n",
       "      <td>0</td>\n",
       "      <td>0</td>\n",
       "      <td>0</td>\n",
       "      <td>...</td>\n",
       "      <td>1</td>\n",
       "      <td>1</td>\n",
       "      <td>0</td>\n",
       "      <td>0</td>\n",
       "      <td>0</td>\n",
       "      <td>1</td>\n",
       "      <td>1</td>\n",
       "      <td>0</td>\n",
       "      <td>1</td>\n",
       "      <td>0</td>\n",
       "    </tr>\n",
       "    <tr>\n",
       "      <th>4</th>\n",
       "      <td>0</td>\n",
       "      <td>IND4</td>\n",
       "      <td>0</td>\n",
       "      <td>0</td>\n",
       "      <td>0</td>\n",
       "      <td>0</td>\n",
       "      <td>2</td>\n",
       "      <td>0</td>\n",
       "      <td>1</td>\n",
       "      <td>0</td>\n",
       "      <td>...</td>\n",
       "      <td>0</td>\n",
       "      <td>0</td>\n",
       "      <td>2</td>\n",
       "      <td>2</td>\n",
       "      <td>0</td>\n",
       "      <td>1</td>\n",
       "      <td>0</td>\n",
       "      <td>0</td>\n",
       "      <td>0</td>\n",
       "      <td>1</td>\n",
       "    </tr>\n",
       "  </tbody>\n",
       "</table>\n",
       "<p>5 rows × 10000 columns</p>\n",
       "</div>"
      ],
      "text/plain": [
       "   FID   IID  Father_ID  Mother_ID  Sex  PHENOTYPE  rs1_1  rs1_2  rs1_3  \\\n",
       "0    0  IND0          0          0    0          1      1      0      0   \n",
       "1    0  IND1          0          0    0          1      0      0      0   \n",
       "2    0  IND2          0          0    0          0      1      0      0   \n",
       "3    0  IND3          0          0    0          0      1      0      0   \n",
       "4    0  IND4          0          0    0          0      2      0      1   \n",
       "\n",
       "   rs1_4  ...  rsX_510  rsX_511  rsX_512  rsX_513  rsX_514  rs848293  \\\n",
       "0      0  ...        0        0        1        0        0         2   \n",
       "1      0  ...        1        0        0        0        0         1   \n",
       "2      0  ...        0        0        1        1        0         0   \n",
       "3      0  ...        1        1        0        0        0         1   \n",
       "4      0  ...        0        0        2        2        0         1   \n",
       "\n",
       "   rs10779987  rs62340585  rs11865086  rs4792891  \n",
       "0           0           1           1          0  \n",
       "1           0           2           1          1  \n",
       "2           1           1           1          2  \n",
       "3           1           0           1          0  \n",
       "4           0           0           0          1  \n",
       "\n",
       "[5 rows x 10000 columns]"
      ]
     },
     "execution_count": 4,
     "metadata": {},
     "output_type": "execute_result"
    }
   ],
   "source": [
    "genotypes.head()"
   ]
  },
  {
   "cell_type": "markdown",
   "id": "30151613-90c0-46e7-b740-cd42848ecd44",
   "metadata": {},
   "source": [
    "Check how many rows in are the .map file. Then use the same command to see how many rows are contained in .ped file."
   ]
  },
  {
   "cell_type": "code",
   "execution_count": 5,
   "id": "73c55f97-d49c-446b-8fd3-88611433b920",
   "metadata": {},
   "outputs": [
    {
     "data": {
      "text/plain": [
       "9994"
      ]
     },
     "execution_count": 5,
     "metadata": {},
     "output_type": "execute_result"
    }
   ],
   "source": [
    "len(variant_info)"
   ]
  },
  {
   "cell_type": "code",
   "execution_count": 6,
   "id": "761b37a8-efc3-4f99-af75-4a8a6bb87947",
   "metadata": {},
   "outputs": [],
   "source": [
    " # Type code for finding the length of the .ped file here"
   ]
  },
  {
   "cell_type": "markdown",
   "id": "2765cf5a-181b-402c-bf81-efe15436c477",
   "metadata": {},
   "source": [
    "<span style=\"color:green\">**Question**:</span> How many variants are present in the data? How many different individuals?"
   ]
  },
  {
   "cell_type": "markdown",
   "id": "017b1ad7-055c-4551-826b-36bee29a0971",
   "metadata": {},
   "source": [
    "Now let's consider the phenotype we are investigating: beat synchronization. Let's count the values present in the phenotype column of the .ped file."
   ]
  },
  {
   "cell_type": "code",
   "execution_count": 7,
   "id": "b38369bc-99ee-4934-8a6f-56405cf995d1",
   "metadata": {},
   "outputs": [
    {
     "data": {
      "text/plain": [
       "PHENOTYPE\n",
       "1    25000\n",
       "0    25000\n",
       "Name: count, dtype: int64"
      ]
     },
     "execution_count": 7,
     "metadata": {},
     "output_type": "execute_result"
    }
   ],
   "source": [
    "genotypes['PHENOTYPE'].value_counts()"
   ]
  },
  {
   "cell_type": "markdown",
   "id": "1c9d26d3-24c8-4493-b298-b22bb9c9d28d",
   "metadata": {},
   "source": [
    "<span style=\"color:green\">**Question**:</span> If study participants were asked \"Can you clap in time with a musical beat?\", what do you think the 0s and 1s represent in the data? Would you characterize this study design as \"balanced\" or \"unbalanced\" based on the distribution of phenotypes?"
   ]
  },
  {
   "cell_type": "markdown",
   "id": "990c0062-1602-4226-8ad5-717d5f0cb8cd",
   "metadata": {},
   "source": [
    "<span style=\"color:purple\">**Checkpoint**:</span> Pause here and touch base with the activity leader."
   ]
  },
  {
   "cell_type": "markdown",
   "id": "265cdc21-56a1-4659-bdc9-2ee4524bab16",
   "metadata": {},
   "source": [
    "Some variants are very rare in humans. When conducting GWAS, we are less likely to be able to detect the effects of these rare variants without a very large sample size. Therefore, it is common practice in GWAS to exclude variants that are low frequency. We first calculate the <span style=\"color:orange\">**minor allele frequency**</span> or <span style=\"color:orange\">**MAF**</span> for each variant and then filter the data based on some value. Let's first write a function that calculates the MAF for all variants."
   ]
  },
  {
   "cell_type": "code",
   "execution_count": 8,
   "id": "3ab17465-9142-4863-9892-53d2344a9e32",
   "metadata": {},
   "outputs": [],
   "source": [
    "def calculate_MAF(df, snp_start_col = 7):\n",
    "    MAFs = []\n",
    "    snps = df.columns[snp_start_col:]\n",
    "    \n",
    "    for column in snps:\n",
    "        allele_counts = df[column].value_counts()\n",
    "        count_0 = allele_counts.get(0, 0)\n",
    "        count_1 = allele_counts.get(1, 0)\n",
    "        count_2 = allele_counts.get(2, 0)\n",
    "        \n",
    "        total_alleles = 2 * (count_0 + count_1 + count_2)\n",
    "        freq_allele_0 = (2 * count_0 + count_1) / total_alleles\n",
    "        freq_allele_1 = (2 * count_2 + count_1) / total_alleles\n",
    "        \n",
    "        MAF = min(freq_allele_0, freq_allele_1)\n",
    "        MAFs.append({'SNP': column, 'MAF': MAF})\n",
    "    \n",
    "    MAF_df = pd.DataFrame(MAFs)\n",
    "    return MAF_df"
   ]
  },
  {
   "cell_type": "code",
   "execution_count": 9,
   "id": "527751ee-60ce-4508-b34d-b2fc3ecf3f23",
   "metadata": {},
   "outputs": [],
   "source": [
    "MAFs = calculate_MAF(genotypes)"
   ]
  },
  {
   "cell_type": "markdown",
   "id": "09f21b9f-943a-4bd0-b1fb-61904491820c",
   "metadata": {},
   "source": [
    "Let's count the number of variants whose minor allele frequency is less than 5%. Edit the code below to do this."
   ]
  },
  {
   "cell_type": "code",
   "execution_count": 10,
   "id": "bd376d92-77bd-45bb-9026-9c5a5a30fe9d",
   "metadata": {},
   "outputs": [],
   "source": [
    "#len(MAFs[MAFs['MAF'] # add filtering criteria here])"
   ]
  },
  {
   "cell_type": "markdown",
   "id": "f1688e2e-5565-4075-a2fb-0043ddd56c73",
   "metadata": {},
   "source": [
    "We should remove those variants from the dataframe."
   ]
  },
  {
   "cell_type": "code",
   "execution_count": 11,
   "id": "4528068f-628f-46fd-9fb2-77f0d2427920",
   "metadata": {},
   "outputs": [],
   "source": [
    "low_MAF_variants = MAFs[MAFs['MAF'] < 0.05]['SNP']\n",
    "genotypes_filtered = genotypes.drop(columns = low_MAF_variants)"
   ]
  },
  {
   "cell_type": "markdown",
   "id": "005fee35-c036-47b4-b7d8-a6c5e8112bda",
   "metadata": {},
   "source": [
    "Let's double check the length of the filtered genotypes file."
   ]
  },
  {
   "cell_type": "code",
   "execution_count": 12,
   "id": "eff57d85-8e0d-4a8c-993f-c203cbb92550",
   "metadata": {},
   "outputs": [
    {
     "name": "stdout",
     "output_type": "stream",
     "text": [
      "<class 'pandas.core.frame.DataFrame'>\n",
      "RangeIndex: 50000 entries, 0 to 49999\n",
      "Columns: 9160 entries, FID to rs4792891\n",
      "dtypes: int64(9159), object(1)\n",
      "memory usage: 3.4+ GB\n"
     ]
    }
   ],
   "source": [
    "genotypes_filtered.info()"
   ]
  },
  {
   "cell_type": "markdown",
   "id": "d69acc30-1dff-464d-91b9-576824c4dd3b",
   "metadata": {},
   "source": [
    "<span style=\"color:purple\">**Checkpoint**:</span> Pause here and touch base with the activity leader."
   ]
  },
  {
   "cell_type": "markdown",
   "id": "5d35db4d-ea3b-49a4-8a9b-73f260167dd9",
   "metadata": {},
   "source": [
    "Now it's time to calculate summary statistics for each variant. Here, and for most GWAS, we are concerned with two statistics: the <span style=\"color:orange\">**odds ratio (OR)**</span> and <span style=\"color:orange\">**p-value**</span>.\n",
    "\n",
    "The <span style=\"color:orange\">**odds ratio**</span> is interpreted as the ratio of the odds of an individual having a phenotype associated with a specific allele and the odds of the same phenotype for an individual who does not have the same allele. In practice, an odds ratio of 1 means the variant has no or minimal affect on the phenotype, whereas values greater than one indicate the variant increases \"risk\" for a trait and values less than one decrease \"risk\" for a trait.\n",
    "\n",
    "A <span style=\"color:orange\">**p-value**</span> is a statistic that represents the probability of obtaining a statistical test result that is at least as extreme as the observed result. We use this measure to assess whether the patterns in our observed data are due to random chance. Generally, we consider a p-value less than 0.05 to be significant or not due to random chance. In GWAS, a stricter p-value is used because we are performing thousands of tests, of which many could be due to random chance. Here, we will use a p-value of 0.00000005 or 5 x 10^-8.\n",
    "\n",
    "First, we will start with the function to calculate the summary statistics."
   ]
  },
  {
   "cell_type": "code",
   "execution_count": 13,
   "id": "dac6670c-484c-47ad-86ce-df974ee0b25c",
   "metadata": {},
   "outputs": [],
   "source": [
    "def calculate_GWAS_summary_stats(ped_file):\n",
    "    # Read PED file\n",
    "    df = ped_file\n",
    " \n",
    "    # Extract phenotype and genotypes\n",
    "    phenotypes = df.iloc[:, 5].astype(int)\n",
    "    genotypes = df.iloc[:, 6:].astype(int)\n",
    "    \n",
    "    # Initialize lists to store results\n",
    "    snp_ids = genotypes.columns.tolist()\n",
    "    allele_freqs = []\n",
    "    odds_ratios = []\n",
    "    p_values = []\n",
    "\n",
    "    # Loop through each SNP\n",
    "    for snp in snp_ids:\n",
    "        snp_genotypes = genotypes[snp]\n",
    "\n",
    "        # Calculate allele frequencies\n",
    "        allele_freq = snp_genotypes.mean() / 2\n",
    "        allele_freqs.append(allele_freq)\n",
    "        \n",
    "        # Logistic regression for association testing\n",
    "        X = sm.add_constant(snp_genotypes)\n",
    "        model = sm.Logit(phenotypes, X)\n",
    "        result = model.fit(disp=0)\n",
    "        \n",
    "        # Get beta, odds ratio, and p-value\n",
    "        beta = result.params[snp]\n",
    "        odds_ratio = np.exp(beta)\n",
    "        p_value = result.pvalues[snp]\n",
    "        \n",
    "        odds_ratios.append(odds_ratio)\n",
    "        p_values.append(p_value)\n",
    "\n",
    "    # Create summary statistics dataframe\n",
    "    summary_stats = pd.DataFrame({\n",
    "        'rsID': snp_ids,\n",
    "        'AF': allele_freqs,\n",
    "        'OR': odds_ratios,\n",
    "        'p_value': p_values\n",
    "    })\n",
    "\n",
    "    return summary_stats"
   ]
  },
  {
   "cell_type": "markdown",
   "id": "e5c9071d-5a06-4738-8368-bd37ac9455e4",
   "metadata": {},
   "source": [
    "Run the function on the genotypes."
   ]
  },
  {
   "cell_type": "code",
   "execution_count": 14,
   "id": "ca377ca8-c95e-405a-9098-f34d9c837c5c",
   "metadata": {},
   "outputs": [],
   "source": [
    "summary_stats = calculate_GWAS_summary_stats(genotypes)"
   ]
  },
  {
   "cell_type": "markdown",
   "id": "c8d3b609-a412-4f7d-9d40-2bf79eaf4dce",
   "metadata": {},
   "source": [
    "Let's take a peak at that object."
   ]
  },
  {
   "cell_type": "code",
   "execution_count": 15,
   "id": "0500a139-e079-4956-8653-e1fb5786b52b",
   "metadata": {},
   "outputs": [
    {
     "data": {
      "text/html": [
       "<div>\n",
       "<style scoped>\n",
       "    .dataframe tbody tr th:only-of-type {\n",
       "        vertical-align: middle;\n",
       "    }\n",
       "\n",
       "    .dataframe tbody tr th {\n",
       "        vertical-align: top;\n",
       "    }\n",
       "\n",
       "    .dataframe thead th {\n",
       "        text-align: right;\n",
       "    }\n",
       "</style>\n",
       "<table border=\"1\" class=\"dataframe\">\n",
       "  <thead>\n",
       "    <tr style=\"text-align: right;\">\n",
       "      <th></th>\n",
       "      <th>rsID</th>\n",
       "      <th>AF</th>\n",
       "      <th>OR</th>\n",
       "      <th>p_value</th>\n",
       "    </tr>\n",
       "  </thead>\n",
       "  <tbody>\n",
       "    <tr>\n",
       "      <th>0</th>\n",
       "      <td>rs1_1</td>\n",
       "      <td>0.42803</td>\n",
       "      <td>1.007793</td>\n",
       "      <td>0.543708</td>\n",
       "    </tr>\n",
       "    <tr>\n",
       "      <th>1</th>\n",
       "      <td>rs1_2</td>\n",
       "      <td>0.06738</td>\n",
       "      <td>1.002552</td>\n",
       "      <td>0.919577</td>\n",
       "    </tr>\n",
       "    <tr>\n",
       "      <th>2</th>\n",
       "      <td>rs1_3</td>\n",
       "      <td>0.18924</td>\n",
       "      <td>0.991229</td>\n",
       "      <td>0.584180</td>\n",
       "    </tr>\n",
       "    <tr>\n",
       "      <th>3</th>\n",
       "      <td>rs1_4</td>\n",
       "      <td>0.05474</td>\n",
       "      <td>0.975482</td>\n",
       "      <td>0.372813</td>\n",
       "    </tr>\n",
       "    <tr>\n",
       "      <th>4</th>\n",
       "      <td>rs1_5</td>\n",
       "      <td>0.12379</td>\n",
       "      <td>0.986310</td>\n",
       "      <td>0.472171</td>\n",
       "    </tr>\n",
       "  </tbody>\n",
       "</table>\n",
       "</div>"
      ],
      "text/plain": [
       "    rsID       AF        OR   p_value\n",
       "0  rs1_1  0.42803  1.007793  0.543708\n",
       "1  rs1_2  0.06738  1.002552  0.919577\n",
       "2  rs1_3  0.18924  0.991229  0.584180\n",
       "3  rs1_4  0.05474  0.975482  0.372813\n",
       "4  rs1_5  0.12379  0.986310  0.472171"
      ]
     },
     "execution_count": 15,
     "metadata": {},
     "output_type": "execute_result"
    }
   ],
   "source": [
    "summary_stats.head()"
   ]
  },
  {
   "cell_type": "markdown",
   "id": "9234321f-cada-4140-a1da-b5e3cfc1b502",
   "metadata": {},
   "source": [
    "We need to map the chromosome and position on to the SNP ID in our summary statistics, modify the dataframe slightly, and then we will visualize the data."
   ]
  },
  {
   "cell_type": "code",
   "execution_count": 16,
   "id": "1c3098ef-a6d2-45c6-8ef4-aea526498048",
   "metadata": {},
   "outputs": [],
   "source": [
    "variant_chr_dict = dict(zip(variant_info['rsID'], variant_info['chr']))\n",
    "variant_pos_dict = dict(zip(variant_info['rsID'], variant_info['pos']))\n",
    "\n",
    "summary_stats['chr'] = summary_stats['rsID'].map(variant_chr_dict)\n",
    "summary_stats['chr'] = 'chr' + summary_stats['chr']\n",
    "summary_stats['pos'] = summary_stats['rsID'].map(variant_pos_dict)\n",
    "\n",
    "summary_stats['chr'] = pd.Categorical(summary_stats['chr'], ['chr1','chr2','chr3','chr4','chr5','chr6','chr7','chr8','chr9','chr10','chr11','chr12','chr13','chr14','chr15','chr16','chr17','chr18','chr19','chr20','chr21','chr22','chrX'])\n",
    "summary_stats = summary_stats.sort_values(['chr','pos'])\n",
    "\n",
    "summary_stats['-log10_p_value'] = -np.log10(summary_stats['p_value'])\n",
    "summary_stats['cumulative_pos'] = range(len(summary_stats))"
   ]
  },
  {
   "cell_type": "markdown",
   "id": "c01c9f88-db24-40e8-ad46-a19914a6892b",
   "metadata": {},
   "source": [
    "Let's take another look at the new summary statistics object before we plot."
   ]
  },
  {
   "cell_type": "code",
   "execution_count": 17,
   "id": "7ced36d1-370e-40d7-be0d-34dd32fc6cd2",
   "metadata": {},
   "outputs": [
    {
     "data": {
      "text/html": [
       "<div>\n",
       "<style scoped>\n",
       "    .dataframe tbody tr th:only-of-type {\n",
       "        vertical-align: middle;\n",
       "    }\n",
       "\n",
       "    .dataframe tbody tr th {\n",
       "        vertical-align: top;\n",
       "    }\n",
       "\n",
       "    .dataframe thead th {\n",
       "        text-align: right;\n",
       "    }\n",
       "</style>\n",
       "<table border=\"1\" class=\"dataframe\">\n",
       "  <thead>\n",
       "    <tr style=\"text-align: right;\">\n",
       "      <th></th>\n",
       "      <th>rsID</th>\n",
       "      <th>AF</th>\n",
       "      <th>OR</th>\n",
       "      <th>p_value</th>\n",
       "      <th>chr</th>\n",
       "      <th>pos</th>\n",
       "      <th>-log10_p_value</th>\n",
       "      <th>cumulative_pos</th>\n",
       "    </tr>\n",
       "  </thead>\n",
       "  <tbody>\n",
       "    <tr>\n",
       "      <th>423</th>\n",
       "      <td>rs1_424</td>\n",
       "      <td>0.29836</td>\n",
       "      <td>0.999041</td>\n",
       "      <td>0.944769</td>\n",
       "      <td>chr1</td>\n",
       "      <td>68659</td>\n",
       "      <td>0.024674</td>\n",
       "      <td>0</td>\n",
       "    </tr>\n",
       "    <tr>\n",
       "      <th>442</th>\n",
       "      <td>rs1_443</td>\n",
       "      <td>0.33260</td>\n",
       "      <td>0.994457</td>\n",
       "      <td>0.678073</td>\n",
       "      <td>chr1</td>\n",
       "      <td>251367</td>\n",
       "      <td>0.168724</td>\n",
       "      <td>1</td>\n",
       "    </tr>\n",
       "    <tr>\n",
       "      <th>525</th>\n",
       "      <td>rs1_526</td>\n",
       "      <td>0.27151</td>\n",
       "      <td>0.988641</td>\n",
       "      <td>0.421751</td>\n",
       "      <td>chr1</td>\n",
       "      <td>736502</td>\n",
       "      <td>0.374944</td>\n",
       "      <td>2</td>\n",
       "    </tr>\n",
       "    <tr>\n",
       "      <th>349</th>\n",
       "      <td>rs1_350</td>\n",
       "      <td>0.28710</td>\n",
       "      <td>1.020088</td>\n",
       "      <td>0.154370</td>\n",
       "      <td>chr1</td>\n",
       "      <td>1080424</td>\n",
       "      <td>0.811436</td>\n",
       "      <td>3</td>\n",
       "    </tr>\n",
       "    <tr>\n",
       "      <th>602</th>\n",
       "      <td>rs1_603</td>\n",
       "      <td>0.32667</td>\n",
       "      <td>0.980019</td>\n",
       "      <td>0.135348</td>\n",
       "      <td>chr1</td>\n",
       "      <td>1603557</td>\n",
       "      <td>0.868550</td>\n",
       "      <td>4</td>\n",
       "    </tr>\n",
       "  </tbody>\n",
       "</table>\n",
       "</div>"
      ],
      "text/plain": [
       "        rsID       AF        OR   p_value   chr      pos  -log10_p_value  \\\n",
       "423  rs1_424  0.29836  0.999041  0.944769  chr1    68659        0.024674   \n",
       "442  rs1_443  0.33260  0.994457  0.678073  chr1   251367        0.168724   \n",
       "525  rs1_526  0.27151  0.988641  0.421751  chr1   736502        0.374944   \n",
       "349  rs1_350  0.28710  1.020088  0.154370  chr1  1080424        0.811436   \n",
       "602  rs1_603  0.32667  0.980019  0.135348  chr1  1603557        0.868550   \n",
       "\n",
       "     cumulative_pos  \n",
       "423               0  \n",
       "442               1  \n",
       "525               2  \n",
       "349               3  \n",
       "602               4  "
      ]
     },
     "execution_count": 17,
     "metadata": {},
     "output_type": "execute_result"
    }
   ],
   "source": [
    "summary_stats.head()"
   ]
  },
  {
   "cell_type": "markdown",
   "id": "b7a2aefc-9673-4a4c-a6d9-46eae46f6f67",
   "metadata": {},
   "source": [
    "<span style=\"color:purple\">**Checkpoint**:</span> Pause here and touch base with the activity leader."
   ]
  },
  {
   "cell_type": "markdown",
   "id": "de2a002a-ddb4-495f-abba-4d0e8fff9c4f",
   "metadata": {},
   "source": [
    "Time to plot!"
   ]
  },
  {
   "cell_type": "code",
   "execution_count": 18,
   "id": "18ced0c5-7800-4529-acd6-525b2e16f94c",
   "metadata": {},
   "outputs": [
    {
     "name": "stderr",
     "output_type": "stream",
     "text": [
      "/var/folders/1q/tkwxqjdd5p55p8zj44_g4yjc0000gn/T/ipykernel_2326/1987648627.py:10: FutureWarning: The default of observed=False is deprecated and will be changed to True in a future version of pandas. Pass observed=False to retain current behavior or observed=True to adopt the future default and silence this warning.\n",
      "  chromosome_ranges = summary_stats.groupby('chr')['cumulative_pos'].agg(['min', 'max'])\n"
     ]
    },
    {
     "data": {
      "image/png": "[encoded data removed]",
      "text/plain": [
       "<Figure size 2000x600 with 1 Axes>"
      ]
     },
     "metadata": {},
     "output_type": "display_data"
    }
   ],
   "source": [
    "base_palette = sns.color_palette(\"viridis\", 7)\n",
    "extended_palette = (base_palette * (23 // 7 + 1))[:23]\n",
    "\n",
    "plt.figure(figsize = (20, 6))\n",
    "sns.scatterplot(data = summary_stats, x = 'cumulative_pos', y = '-log10_p_value', hue = 'chr', palette = 'tab20', edgecolor = None, legend = False)\n",
    "plt.xlabel('Chromosome')\n",
    "plt.ylabel('-log10(p-value)')\n",
    "plt.title('Beat Synchronization GWAS')\n",
    "\n",
    "chromosome_ranges = summary_stats.groupby('chr')['cumulative_pos'].agg(['min', 'max'])\n",
    "chromosome_midpoints = (chromosome_ranges['min'] + chromosome_ranges['max']) / 2\n",
    "\n",
    "# Set x-ticks to the midpoints of chromosomes and label them\n",
    "plt.xticks(ticks = chromosome_midpoints, labels= [chr for chr in chromosome_midpoints.index])\n",
    "\n",
    "# Add a genome-wide significance line (adjust significance threshold as needed)\n",
    "genome_wide_significance = -np.log10(5e-8)  # Example threshold\n",
    "plt.axhline(y = genome_wide_significance, color = 'black', linestyle = '--')\n",
    "\n",
    "plt.show()"
   ]
  },
  {
   "cell_type": "markdown",
   "id": "5a616d03-da19-4012-a65c-e561a529de14",
   "metadata": {},
   "source": [
    "<span style=\"color:green\">**Question**:</span> How many variants pass the genome-wide threshold for significance?"
   ]
  },
  {
   "cell_type": "markdown",
   "id": "1663928e-9c07-4b8b-b05b-353aba132363",
   "metadata": {},
   "source": [
    "Let's look at the variants in the summary statistics dataframe."
   ]
  },
  {
   "cell_type": "code",
   "execution_count": 19,
   "id": "c84d4056-9e08-4fce-a609-b4306dc8a19b",
   "metadata": {},
   "outputs": [
    {
     "data": {
      "text/html": [
       "<div>\n",
       "<style scoped>\n",
       "    .dataframe tbody tr th:only-of-type {\n",
       "        vertical-align: middle;\n",
       "    }\n",
       "\n",
       "    .dataframe tbody tr th {\n",
       "        vertical-align: top;\n",
       "    }\n",
       "\n",
       "    .dataframe thead th {\n",
       "        text-align: right;\n",
       "    }\n",
       "</style>\n",
       "<table border=\"1\" class=\"dataframe\">\n",
       "  <thead>\n",
       "    <tr style=\"text-align: right;\">\n",
       "      <th></th>\n",
       "      <th>rsID</th>\n",
       "      <th>AF</th>\n",
       "      <th>OR</th>\n",
       "      <th>p_value</th>\n",
       "      <th>chr</th>\n",
       "      <th>pos</th>\n",
       "      <th>-log10_p_value</th>\n",
       "      <th>cumulative_pos</th>\n",
       "    </tr>\n",
       "  </thead>\n",
       "  <tbody>\n",
       "    <tr>\n",
       "      <th>9989</th>\n",
       "      <td>rs848293</td>\n",
       "      <td>0.42448</td>\n",
       "      <td>1.115382</td>\n",
       "      <td>1.539571e-20</td>\n",
       "      <td>chr2</td>\n",
       "      <td>58155355</td>\n",
       "      <td>19.812600</td>\n",
       "      <td>1014</td>\n",
       "    </tr>\n",
       "    <tr>\n",
       "      <th>9990</th>\n",
       "      <td>rs10779987</td>\n",
       "      <td>0.42523</td>\n",
       "      <td>1.131550</td>\n",
       "      <td>1.100377e-25</td>\n",
       "      <td>chr3</td>\n",
       "      <td>81921705</td>\n",
       "      <td>24.958459</td>\n",
       "      <td>1880</td>\n",
       "    </tr>\n",
       "    <tr>\n",
       "      <th>9991</th>\n",
       "      <td>rs62340585</td>\n",
       "      <td>0.42429</td>\n",
       "      <td>1.104897</td>\n",
       "      <td>2.099997e-17</td>\n",
       "      <td>chr4</td>\n",
       "      <td>175949971</td>\n",
       "      <td>16.677781</td>\n",
       "      <td>2857</td>\n",
       "    </tr>\n",
       "    <tr>\n",
       "      <th>9992</th>\n",
       "      <td>rs11865086</td>\n",
       "      <td>0.42464</td>\n",
       "      <td>1.103818</td>\n",
       "      <td>4.821300e-17</td>\n",
       "      <td>chr16</td>\n",
       "      <td>30119172</td>\n",
       "      <td>16.316836</td>\n",
       "      <td>8029</td>\n",
       "    </tr>\n",
       "  </tbody>\n",
       "</table>\n",
       "</div>"
      ],
      "text/plain": [
       "            rsID       AF        OR       p_value    chr        pos  \\\n",
       "9989    rs848293  0.42448  1.115382  1.539571e-20   chr2   58155355   \n",
       "9990  rs10779987  0.42523  1.131550  1.100377e-25   chr3   81921705   \n",
       "9991  rs62340585  0.42429  1.104897  2.099997e-17   chr4  175949971   \n",
       "9992  rs11865086  0.42464  1.103818  4.821300e-17  chr16   30119172   \n",
       "\n",
       "      -log10_p_value  cumulative_pos  \n",
       "9989       19.812600            1014  \n",
       "9990       24.958459            1880  \n",
       "9991       16.677781            2857  \n",
       "9992       16.316836            8029  "
      ]
     },
     "execution_count": 19,
     "metadata": {},
     "output_type": "execute_result"
    }
   ],
   "source": [
    "summary_stats[summary_stats['p_value'] < 0.00000005]"
   ]
  },
  {
   "cell_type": "markdown",
   "id": "3b5967df-8619-42d6-8fdd-fc7a6a9fd40b",
   "metadata": {},
   "source": [
    "<span style=\"color:green\">**Question**:</span> Do the variants increase \"risk\" or decrease \"risk\" for beat synchronization? Using the rsID or chromosome and position, look up whether these variants occur in or nearby genes. If the variants are near genes, do the genes make sense given the trait? For example, a GWAS of infection status would likely identify variants associated with the immune system."
   ]
  }
 ],
 "metadata": {
  "kernelspec": {
   "display_name": "Python 3 (ipykernel)",
   "language": "python",
   "name": "python3"
  },
  "language_info": {
   "codemirror_mode": {
    "name": "ipython",
    "version": 3
   },
   "file_extension": ".py",
   "mimetype": "text/x-python",
   "name": "python",
   "nbconvert_exporter": "python",
   "pygments_lexer": "ipython3",
   "version": "3.12.0"
  }
 },
 "nbformat": 4,
 "nbformat_minor": 5
}
